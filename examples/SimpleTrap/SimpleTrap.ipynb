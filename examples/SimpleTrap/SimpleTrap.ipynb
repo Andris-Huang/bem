{
 "cells": [
  {
   "cell_type": "code",
   "execution_count": 1,
   "id": "b4b54048-03c0-4ccb-9fb8-886b281ebca5",
   "metadata": {},
   "outputs": [],
   "source": [
    "import sys\n",
    "import logging, os\n",
    "from time import time\n",
    "import numpy as np\n",
    "import pyvista as pv\n",
    "import matplotlib.pyplot as plt\n",
    "from mpl_toolkits.mplot3d import axes3d\n",
    "%matplotlib notebook\n",
    "\n",
    "import ipyparallel as ipp\n",
    "\n",
    "from bem import Electrodes, Sphere, Cylinder, Mesh, Grid, Configuration, Result\n",
    "from bem.formats import stl"
   ]
  },
  {
   "cell_type": "markdown",
   "id": "d1fdc86f-b723-4269-a3ac-0499e4ded3dd",
   "metadata": {},
   "source": [
    "# Import mesh from stl"
   ]
  },
  {
   "cell_type": "code",
   "execution_count": 2,
   "id": "af039139-a740-4cba-9b00-0255c8a7983b",
   "metadata": {},
   "outputs": [],
   "source": [
    "# base file name for outputs and inputs is the script name\n",
    "prefix = \"SimpleTrap\""
   ]
  },
  {
   "cell_type": "code",
   "execution_count": 3,
   "id": "366c7e5e-063f-47f7-94a1-8a0257a82b83",
   "metadata": {},
   "outputs": [
    {
     "name": "stdout",
     "output_type": "stream",
     "text": [
      "Import stl: /Users/nem0x/Documents/Pyckages/bem-savio/examples/SimpleTrap/SimpleTrap.stl \n",
      "\n",
      "Electrode colors (numbers):\n",
      "\n",
      "dropping 0\n",
      "dropping 9495\n",
      "dropping 17962\n",
      "dropping 18994\n",
      "dropping 18869\n",
      "dropping 20943\n",
      "dropping 18129\n",
      "mesh.gather() not working properly, be sure to have valid input\n"
     ]
    }
   ],
   "source": [
    "a0 = 40e-6    # Distance from ion to electrode is 40 µm.\n",
    "unit = 1e-6   # unit of the stl file is µm.\n",
    "\n",
    "# load electrode faces from colored stl\n",
    "# s_nta is intermediate processed stl file.\n",
    "s_nta = stl.read_stl(open(\"%s.stl\" % prefix, \"rb\"))\n",
    "print(\"Import stl:\",os.path.abspath(\"./\"+prefix+\".stl\"),\"\\n\")\n",
    "print(\"Electrode colors (numbers):\\n\")\n",
    "mesh = Mesh.from_mesh(stl.stl_to_mesh(*s_nta, scale=a0/unit,rename={1:\"1\"}))   \n",
    "# after scale, unit is a0"
   ]
  },
  {
   "cell_type": "markdown",
   "id": "c4e6aaa4-6709-4e60-8332-d5b20237033f",
   "metadata": {},
   "source": [
    "## The formal rename of electrode. \n",
    "Assign each electrode a string name instead of its color coding. Use the numbers you get above.  \n",
    "`stl.stl_to_mesh()` prints normal vectors (different faces) in each electrode."
   ]
  },
  {
   "cell_type": "code",
   "execution_count": 4,
   "id": "211bbe3a-14a0-4b17-85f2-33191d2de4fb",
   "metadata": {},
   "outputs": [
    {
     "name": "stdout",
     "output_type": "stream",
     "text": [
      "3 <class 'tuple'> \n",
      "\n",
      "Triangles: 440 \n",
      "Colors: 440 \n",
      "\n",
      "dropping 0\n",
      "1 planes in electrode DC1\n",
      "normals vectors:\n",
      " [[ 0. -0.  1.]]\n",
      "1 planes in electrode DC3\n",
      "normals vectors:\n",
      " [[0. 0. 1.]]\n",
      "1 planes in electrode DC5\n",
      "normals vectors:\n",
      " [[0. 0. 1.]]\n",
      "1 planes in electrode DC2\n",
      "normals vectors:\n",
      " [[0. 0. 1.]]\n",
      "1 planes in electrode RF\n",
      "normals vectors:\n",
      " [[0. 0. 1.]]\n",
      "1 planes in electrode DC4\n",
      "normals vectors:\n",
      " [[ 0. -0.  1.]]\n"
     ]
    }
   ],
   "source": [
    "print(len(s_nta), type(s_nta),\"\\n\")\n",
    "# s_nta is a length 3 tuple. (normal, triangle, attribute) \n",
    "# Normal direction of each triangle, three vetice of triangles, coding number of colors.\n",
    "print(\"Triangles:\",len(s_nta[0]),\"\\nColors:\",len(s_nta[2]),\"\\n\")    # This isn't right.\n",
    "\n",
    "# stl_to_mesh() only assigns names and does scaling, doing no triangulation to stl mesh.\n",
    "# \"scale=a0/unit\" only scales dimensionless\n",
    "mesh = Mesh.from_mesh(stl.stl_to_mesh(*s_nta, scale=a0/unit,\n",
    "    rename={9495: \"DC1\", \n",
    "            17962: \"DC3\", \n",
    "            18994: \"DC5\",\n",
    "            18869: \"DC2\", \n",
    "            20943: \"RF\", \n",
    "            18129: \"DC4\"\n",
    "           }, quiet=False))    \n"
   ]
  },
  {
   "cell_type": "markdown",
   "id": "ab1b7163-5174-4deb-9a82-892cad05efb6",
   "metadata": {},
   "source": [
    "# Generate triangle mesh with constraints\n",
    "\n",
    "The meshes are 2-dimensional triangles on the surface of electrodes. The region enclosed by constraint shape can have finer mesh. Triangulation is done by `triangle` C library."
   ]
  },
  {
   "cell_type": "code",
   "execution_count": 5,
   "id": "bf879f76-3417-4b4b-af3e-c1ef2ec8791f",
   "metadata": {},
   "outputs": [
    {
     "name": "stdout",
     "output_type": "stream",
     "text": [
      "start triangulate DC1\n",
      "('final opts', 'q20Qzra')\n",
      "finish triangulate DC1\n",
      "start triangulate DC3\n",
      "('final opts', 'q20Qzra')\n",
      "finish triangulate DC3\n",
      "start triangulate DC5\n",
      "('final opts', 'q20Qzra')\n",
      "finish triangulate DC5\n",
      "start triangulate DC2\n",
      "('final opts', 'q20Qzra')\n",
      "finish triangulate DC2\n",
      "start triangulate RF\n",
      "('final opts', 'q20Qzra')\n",
      "finish triangulate RF\n",
      "start triangulate DC4\n",
      "('final opts', 'q20Qzra')\n",
      "finish triangulate DC4\n",
      "Output vtk: /Users/nem0x/Documents/Pyckages/bem-savio/examples/SimpleTrap/SimpleTrap.vtk\n"
     ]
    }
   ],
   "source": [
    "# set .1 max area within 3\n",
    "# areas_from_constraints specifies sphere with finer mesh inside it.\n",
    "mesh.areas_from_constraints(Sphere(center=np.array([0, 0, 1.]),\n",
    "           radius=2, inside=0.2, outside=10))    # \"inside\", \"outside\" set different mesh densities.\n",
    "# retriangulate quality and quiet with areas\n",
    "mesh.triangulate(opts=\"q20Q\", new=False)\n",
    "# save base mesh to vtk\n",
    "mesh.to_vtk(prefix)\n",
    "print(\"Output vtk:\",os.path.abspath(\"./\"+prefix+\".vtk\"))    # output path"
   ]
  },
  {
   "cell_type": "markdown",
   "id": "d2c3c568-f382-4373-85b2-c125c77f3497",
   "metadata": {},
   "source": [
    "## Plot mesh\n",
    "\n",
    "Plot mesh using pyvista plotter in a separate window.\n",
    "On macOS perhaps Linux as well, the window doesn't close properly after clicking close button, but the code can continue to run."
   ]
  },
  {
   "cell_type": "code",
   "execution_count": 6,
   "id": "a97dd5bb-98de-483a-a9ed-3d8284bf4f36",
   "metadata": {},
   "outputs": [],
   "source": [
    "# Plot triangle meshes.\n",
    "mesh.plot()"
   ]
  },
  {
   "cell_type": "markdown",
   "id": "a48cf7ce-c550-4249-a660-4cdeff01916c",
   "metadata": {},
   "source": [
    "# Main boundary element calculations\n",
    "\n",
    "In `run_job` function, `job` is `Configuration` instance and `grid` is discretirized spatial grid (not the mesh). The general workflow (also the routine of BEM method) are:  \n",
    "1. `solve_singularities()` solves charge distributions by iterative methods to make it consistent with one electrode at 1V and others at 0V (unit potentials). `adapt_mesh()` refines meshes adaptively to achieve certain precision while solving sigulartities.\n",
    "2. Compute potentials on given grid points by `simulate()`, based on the charge distributions gotten previously.\n",
    "3. Potential data of each unit potential are saved seperately to a `Result` instance, and also export to VTK files.\n",
    "4. Return total accumulated charge per electrode in the end.\n",
    "\n",
    "Major calculations calls `fastlap` C library which uses a pre-conditioned, adaptive, multipole-accelerated algorithm for solving Laplace problem. Two parameters control multipole acceleration.\n",
    "+ num_mom, the number of multipole\n",
    "+ num_lev, the number of levels in the hierarchical spatial decomposition.  \n",
    "num_lev=1 means direct computation without multipole acceleration. See fastlap ug.pdf and README.rst."
   ]
  },
  {
   "cell_type": "code",
   "execution_count": 6,
   "id": "8d51a66b-90fd-42ce-8860-380af9584859",
   "metadata": {},
   "outputs": [],
   "source": [
    "# Define calculation function.\n",
    "def run_job(args):\n",
    "    # job is Configuration instance.\n",
    "    job, grid, prefix = args\n",
    "    # refine twice adaptively with increasing number of triangles, min angle 25 deg.\n",
    "    job.adapt_mesh(triangles=4e2, opts=\"q25Q\")\n",
    "    job.adapt_mesh(triangles=1e3, opts=\"q25Q\")\n",
    "    # solve for surface charges\n",
    "    job.solve_singularities(num_mom=4, num_lev=3)\n",
    "    # get potentials and fields\n",
    "    result = job.simulate(grid, field=job.name==\"RF\", num_lev=2)    # For \"RF\", field=True computes the field.\n",
    "    result.to_vtk(prefix)\n",
    "    print(\"finished job %s\" % job.name)\n",
    "    return job.collect_charges()"
   ]
  },
  {
   "cell_type": "markdown",
   "id": "a48439af-df27-4640-b860-f11d959c5f79",
   "metadata": {},
   "source": [
    "## Define grid\n",
    "\n",
    "Create a grid in unit of scaled length `l`. Only choose the interested region (trap center) to save time.\n",
    "\n",
    "For reference, to compute Seidelin trap, grid shape = (60, 60, 60) takes 266 s, while shape = (150, 150, 150) takes 3369 s."
   ]
  },
  {
   "cell_type": "code",
   "execution_count": 8,
   "id": "f5b0a18f-6b09-45d4-a3af-026bf9b3c242",
   "metadata": {},
   "outputs": [
    {
     "name": "stdout",
     "output_type": "stream",
     "text": [
      "Size/l: 2 2 2\n",
      "Step/l: 0.08 0.08 0.08\n",
      "Shape (grid point numbers): 27 27 27\n",
      "Grid origin/l: -1.04\n"
     ]
    }
   ],
   "source": [
    "# grid to evalute potential and fields atCreate a grid in unit of scaled length l. Only choose the interested region (trap center) to save time.\n",
    "s = 0.08\n",
    "Lx, Ly, Lz = 2, 2, 2    # in the unit of scaled length l\n",
    "sx, sy, sz = s, s, s\n",
    "# ni is grid point number, si is step size. Thus to fix size on i direction you need to fix ni*si.\n",
    "nx, ny, nz = [2*np.ceil(L/2.0/ss).astype('int')+1 for ss, L in zip((sx, sy, sz), (Lx, Ly, Lz))]\n",
    "print(\"Size/l:\", Lx, Ly, Lz)\n",
    "print(\"Step/l:\", sx, sy, sz)\n",
    "print(\"Shape (grid point numbers):\", nx, ny, nz)\n",
    "grid = Grid(center=(0, 0, 1.5), step=(sx, sy, sz), shape=(nx, ny, nz))\n",
    "# Grid center (nx, ny ,nz)/2 is shifted to origin\n",
    "print(\"Grid origin/l:\", grid.get_origin()[0])"
   ]
  },
  {
   "cell_type": "markdown",
   "id": "c922dff7-6961-4d06-ba4c-915b868fe3ee",
   "metadata": {},
   "source": [
    "# Parallel computation using ipyparallel, which is compatible with Savio BRC-HPC"
   ]
  },
  {
   "cell_type": "code",
   "execution_count": 8,
   "id": "6cabdbfb-a5f6-4084-aa41-7b6ed6567e80",
   "metadata": {},
   "outputs": [
    {
     "name": "stdout",
     "output_type": "stream",
     "text": [
      "Starting 8 engines with <class 'ipyparallel.cluster.launcher.LocalEngineSetLauncher'>\n"
     ]
    },
    {
     "name": "stderr",
     "output_type": "stream",
     "text": [
      "INFO:ipyparallel.cluster.cluster.1666855509-orme:Starting 8 engines with <class 'ipyparallel.cluster.launcher.LocalEngineSetLauncher'>\n"
     ]
    },
    {
     "data": {
      "application/vnd.jupyter.widget-view+json": {
       "model_id": "5a24adaf80f940d6ab0c1bbd6ee51211",
       "version_major": 2,
       "version_minor": 0
      },
      "text/plain": [
       "  0%|          | 0/8 [00:00<?, ?engine/s]"
      ]
     },
     "metadata": {},
     "output_type": "display_data"
    },
    {
     "data": {
      "application/vnd.jupyter.widget-view+json": {
       "model_id": "d640f1738be64727838bd2cacf50278c",
       "version_major": 2,
       "version_minor": 0
      },
      "text/plain": [
       "run_job:   0%|          | 0/6 [00:00<?, ?tasks/s]"
      ]
     },
     "metadata": {},
     "output_type": "display_data"
    },
    {
     "name": "stdout",
     "output_type": "stream",
     "text": [
      "Computing time: 11.055103 s\n"
     ]
    }
   ],
   "source": [
    "# create job list\n",
    "jobs = list(Configuration.select(mesh,\"DC.*\",\"RF\"))\n",
    "\n",
    "# parallel computation\n",
    "mycluster = ipp.Cluster()\n",
    "mycluster.start_cluster_sync()\n",
    "c = mycluster.connect_client_sync()\n",
    "c.wait_for_engines()\n",
    "\n",
    "t0 = time()\n",
    "# Run a parallel map, executing the wrapper function on indices 0,...,n-1\n",
    "lview = c.load_balanced_view()\n",
    "# Cause execution on main process to wait while tasks sent to workers finish\n",
    "lview.block = True \n",
    "asyncresult = lview.map_async(run_job, ((job, grid, prefix) for job in jobs))   # Run calculation in parallel\n",
    "asyncresult.wait_interactive()\n",
    "print(\"Computing time: %f s\"%(time()-t0))"
   ]
  },
  {
   "cell_type": "markdown",
   "id": "ae146844-83bb-4b22-941f-9417dd671d35",
   "metadata": {},
   "source": [
    "# View result in 3D"
   ]
  },
  {
   "cell_type": "code",
   "execution_count": 15,
   "id": "8b0925f3-61b3-42b9-8028-c84abb6cb33d",
   "metadata": {},
   "outputs": [],
   "source": [
    "# base file name for outputs and inputs is the script name\n",
    "prefix = \"SimpleTrap\""
   ]
  },
  {
   "cell_type": "markdown",
   "id": "4f9db084-6af3-47df-bda4-7ec5b0388e78",
   "metadata": {},
   "source": [
    "view exported base mesh vtk file"
   ]
  },
  {
   "cell_type": "code",
   "execution_count": 7,
   "id": "c8e64059-24dc-4a9c-8d50-27b4f388ca88",
   "metadata": {},
   "outputs": [],
   "source": [
    "Result.view(prefix, '') # don't add anything between '' for mesh view"
   ]
  },
  {
   "cell_type": "markdown",
   "id": "dd79eb7a-06e9-4ed3-91cc-02729b19ba38",
   "metadata": {},
   "source": [
    "view simulation result of an electrode"
   ]
  },
  {
   "cell_type": "code",
   "execution_count": null,
   "id": "9f837b51-4b0f-4ba0-b6e5-9b894c5ccadc",
   "metadata": {},
   "outputs": [],
   "source": [
    "Result.view(prefix, 'RF') # add electrode name between '' for result view"
   ]
  },
  {
   "cell_type": "markdown",
   "id": "9275120d-072b-46da-b8c6-76043a1cf716",
   "metadata": {},
   "source": [
    "# Load result"
   ]
  },
  {
   "cell_type": "code",
   "execution_count": 3,
   "id": "4da591e3-db45-4090-98a3-25ce564e2034",
   "metadata": {},
   "outputs": [],
   "source": [
    "rf_result = Result.from_vtk(prefix, 'RF')"
   ]
  },
  {
   "cell_type": "code",
   "execution_count": null,
   "id": "67a3de4c-ef3e-474e-8c1e-d14fa376be4e",
   "metadata": {},
   "outputs": [],
   "source": []
  }
 ],
 "metadata": {
  "kernelspec": {
   "display_name": "Python 3 (ipykernel)",
   "language": "python",
   "name": "python3"
  },
  "language_info": {
   "codemirror_mode": {
    "name": "ipython",
    "version": 3
   },
   "file_extension": ".py",
   "mimetype": "text/x-python",
   "name": "python",
   "nbconvert_exporter": "python",
   "pygments_lexer": "ipython3",
   "version": "3.9.13"
  }
 },
 "nbformat": 4,
 "nbformat_minor": 5
}
