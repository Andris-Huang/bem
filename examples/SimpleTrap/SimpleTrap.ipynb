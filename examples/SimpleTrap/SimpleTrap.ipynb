{
 "cells": [
  {
   "cell_type": "code",
   "execution_count": null,
   "id": "b4b54048-03c0-4ccb-9fb8-886b281ebca5",
   "metadata": {},
   "outputs": [
    {
     "ename": "",
     "evalue": "",
     "output_type": "error",
     "traceback": [
      "\u001b[1;31mFailed to start the Kernel. \n",
      "Kernel bem39 (Python 3.9.13) is not usable. Check the Jupyter output tab for more information. \n",
      "View Jupyter <a href='command:jupyter.viewOutput'>log</a> for further details."
     ]
    }
   ],
   "source": [
    "import sys\n",
    "import logging, os\n",
    "from time import time\n",
    "import numpy as np\n",
    "import pyvista as pv\n",
    "import matplotlib.pyplot as plt\n",
    "from mpl_toolkits.mplot3d import axes3d\n",
    "%matplotlib notebook\n",
    "\n",
    "import ipyparallel as ipp\n",
    "\n",
    "from bem import Electrodes, Sphere, Cylinder, Mesh, Grid, Configuration, Result\n",
    "from bem.formats import stl\n",
    "from bem.bemColors_lib.bemColors import bemColors\n",
    "from helper_functions import helper_functions"
   ]
  },
  {
   "cell_type": "markdown",
   "id": "840b9036-d3af-401a-b3f7-30ce6acbfc75",
   "metadata": {},
   "source": [
    "# `I. Read STL and rename electrodes` \n",
    "This part reads a colored model file `./SimpleTrap.stl`, and assigns a name for each color(thus for each electrode). The result is stored in `./SimpleTrap_mesh.vtk`.\n",
    "\n",
    "Here we name different electrodes and refine the meshes. The size of mesh deternmines the accuracy in next step. You should set the mesh finer and finer until the result converges. Also, you can set the mesh finer and test the convergence.\n",
    "\n",
    "## (1) color your electrodes (in fusion 360) and export stl\n",
    "A trap always consists of different electrodes. Here we use different color to identify different electrodes(STL file stores color for each mesh). In fusion 360/Inventor, you can assign different appearance for different parts, of which we only cares about the color(because stl file only stores color), not texture. We recommend to use ../../bemCol_lib/bemCol.adsklib for different electrodes if you are usin Fusion 360. Same color for two electrodes means they are shorted. Then export to an stl file and move the file in the same folder as the mesh processing file. \n",
    "\n",
    "Below, \"prefix\" should be the name of the STL file. \n",
    "\"a0\" should be close to the characteristic distance.\n",
    "\"unit\" is the unit for the STL file."
   ]
  },
  {
   "cell_type": "code",
   "execution_count": null,
   "id": "af039139-a740-4cba-9b00-0255c8a7983b",
   "metadata": {},
   "outputs": [],
   "source": [
    "# base file name for outputs and inputs is the script name\n",
    "prefix = \"htrap_overhang_v2\"\n",
    "\n",
    "a0 = 1e-3    # Distance from ion to electrode is 40 µm.\n",
    "unit = 1e-3   # unit of the stl file is µm."
   ]
  },
  {
   "cell_type": "markdown",
   "id": "fd0c71e1-d7c1-47d4-8325-c26cb9210a7d",
   "metadata": {},
   "source": [
    "Some notes:\n",
    "* Why use standard color? We define a set of standard color lib `../../../bemCol_lib/bemCol.adsklib` for two reasons: 1. when exporting to .stl file, Fusion 360 will compress 0-256 color(RGBA32) into 0-32 color(RGBA16), which means that some similar colors in fusion 360 will become same color after export to .stl file. Our standard color lib avoid this problem. 2.If you use .stl file exported from Fusion 360 DIRECTLY, naming the electrodes would be very convinient. If you use other apps such as Inventor or Meshlab to generate .stl file, you can ignore the second reason because color encoding are quite different in different apps\n",
    "\n"
   ]
  },
  {
   "cell_type": "markdown",
   "id": "c4e6aaa4-6709-4e60-8332-d5b20237033f",
   "metadata": {
    "tags": []
   },
   "source": [
    "## (2) The formal rename of electrode. \n",
    "### (2.1) rename directly with color code\n",
    "First read stl and drop all color codes. Be sure to put something random in rename argument to drop all color codes."
   ]
  },
  {
   "cell_type": "code",
   "execution_count": 3,
   "id": "366c7e5e-063f-47f7-94a1-8a0257a82b83",
   "metadata": {},
   "outputs": [
    {
     "name": "stdout",
     "output_type": "stream",
     "text": [
      "Import stl: /home/sqip/Documents/github/bem/examples/SimpleTrap/htrap_overhang_v2.stl \n",
      "\n",
      "Electrode colors (numbers):\n",
      "\n",
      "dropping 20083\n",
      "dropping 28593\n",
      "dropping 5345\n",
      "dropping 13683\n",
      "dropping 27949\n",
      "dropping 13363\n",
      "dropping 15669\n",
      "dropping 28135\n",
      "dropping 5997\n",
      "dropping 5493\n",
      "dropping 25969\n",
      "dropping 1647\n",
      "dropping 7275\n",
      "dropping 19501\n",
      "dropping 28463\n",
      "dropping 10151\n",
      "dropping 1399\n",
      "dropping 15905\n",
      "dropping 5941\n",
      "dropping 10095\n",
      "dropping 19943\n",
      "dropping 9893\n",
      "dropping 11517\n",
      "dropping 5691\n",
      "mesh.gather() not working properly, be sure to have valid input\n"
     ]
    }
   ],
   "source": [
    "# load electrode faces from colored stl\n",
    "# s_nta is intermediate processed stl file.\n",
    "s_nta = stl.read_stl(open(\"%s.stl\" % prefix, \"rb\"))\n",
    "print(\"Import stl:\",os.path.abspath(\"./\"+prefix+\".stl\"),\"\\n\")\n",
    "print(\"Electrode colors (numbers):\\n\")\n",
    "mesh = Mesh.from_mesh(stl.stl_to_mesh(*s_nta, scale=a0/unit,rename={1:\"1\"}))   \n",
    "# after scale, unit is a0"
   ]
  },
  {
   "cell_type": "markdown",
   "id": "08a39274-32dc-4430-bec0-44ed2b79a19f",
   "metadata": {},
   "source": [
    "Assign each electrode a string name instead of its color coding. Use the numbers you get above.  \n",
    "`stl.stl_to_mesh()` prints normal vectors (different faces) in each electrode."
   ]
  },
  {
   "cell_type": "code",
   "execution_count": 4,
   "id": "211bbe3a-14a0-4b17-85f2-33191d2de4fb",
   "metadata": {},
   "outputs": [
    {
     "name": "stdout",
     "output_type": "stream",
     "text": [
      "3 <class 'tuple'> \n",
      "\n",
      "Triangles: 3850 \n",
      "Colors: 3850 \n",
      "\n",
      "dropping 20083\n",
      "dropping 28593\n",
      "dropping 5345\n",
      "dropping 13683\n",
      "dropping 27949\n",
      "dropping 13363\n",
      "dropping 15669\n",
      "dropping 28135\n",
      "dropping 5997\n",
      "dropping 5493\n",
      "dropping 25969\n",
      "dropping 1647\n",
      "dropping 7275\n",
      "dropping 19501\n",
      "dropping 28463\n",
      "dropping 10151\n",
      "dropping 1399\n",
      "dropping 15905\n",
      "dropping 5941\n",
      "dropping 10095\n",
      "dropping 19943\n",
      "dropping 9893\n",
      "dropping 11517\n",
      "dropping 5691\n",
      "mesh.gather() not working properly, be sure to have valid input\n"
     ]
    }
   ],
   "source": [
    "print(len(s_nta), type(s_nta),\"\\n\")\n",
    "# s_nta is a length 3 tuple. (normal, triangle, attribute) \n",
    "# Normal direction of each triangle, three vetice of triangles, coding number of colors.\n",
    "print(\"Triangles:\",len(s_nta[0]),\"\\nColors:\",len(s_nta[2]),\"\\n\")    # This isn't right.\n",
    "\n",
    "# stl_to_mesh() only assigns names and does scaling, doing no triangulation to stl mesh.\n",
    "# \"scale=a0/unit\" only scales dimensionless\n",
    "mesh = Mesh.from_mesh(stl.stl_to_mesh(*s_nta, scale=a0/unit,\n",
    "    rename={9495: \"DC1\", \n",
    "            17962: \"DC3\", \n",
    "            18994: \"DC5\",\n",
    "            18869: \"DC2\", \n",
    "            20943: \"RF\", \n",
    "            18129: \"DC4\"\n",
    "           }, quiet=False))    \n"
   ]
  },
  {
   "cell_type": "markdown",
   "id": "d06f63b6-ccb3-465b-8123-986709021233",
   "metadata": {},
   "source": [
    "### (2.2) rename with BemColors\n",
    "\n",
    "Below shows how to rename electrodes with `BemColors`\n",
    "\n",
    "The code is fully commented out, because the SimpleTrap.stl file doesn't use Fusion 360 colors. But The basic\n",
    "\n",
    "Firstly, we print all the colors appear in the stl file. If a color is of standard colors in `bemCol.adsklib` or named manually by function `bemCol.set_my_color()`, then the color will appear in a straightforward name, such as `bem0`,`bem1` ...... . Otherwise, the color will simply be named as `'_unkCol0'` , `'_unkCol1'`, ... \n"
   ]
  },
  {
   "cell_type": "code",
   "execution_count": 5,
   "id": "f5a63b75-7ec4-4e3b-97d1-b51b3f9fbb81",
   "metadata": {},
   "outputs": [
    {
     "name": "stdout",
     "output_type": "stream",
     "text": [
      "COLORS in the stl:\n",
      "['bem6']\n",
      "['bem13']\n",
      "['bem19']\n",
      "['bem11']\n",
      "['bem17']\n",
      "['bem15']\n",
      "['bem30']\n",
      "['bem1']\n",
      "['bem12']\n",
      "['bem5']\n",
      "['bem25']\n",
      "['bem18']\n",
      "['bem3']\n",
      "['bem16']\n",
      "['bem7']\n",
      "['bem9']\n",
      "['bem2']\n",
      "['bem4']\n",
      "['bem20']\n",
      "['bem10']\n",
      "['bem14']\n",
      "['bem8']\n",
      "['bem21']\n",
      "['_unkColor0']\n",
      "TOTAL COLORS:  24\n"
     ]
    }
   ],
   "source": [
    "ele_col = bemColors(np.array(list(set(s_nta[2]))),('fusion360','export_stl'))\n",
    "ele_col.set_my_color(value = (178,178,178),cl_format = ('fusion360','export_stl','RGBA64'),name = 'self_defined')\n",
    "ele_col.print_stl_colors()"
   ]
  },
  {
   "cell_type": "markdown",
   "id": "871b225d-15b6-4b7a-9819-4d7be33afbdc",
   "metadata": {},
   "source": [
    "Next, you need to assign a name for each color appeared above. With standard colors defined in `bemCol.adsklib`, the correspondence between color and electrode is clear, which make it easy for this step. You can also comment out some `ele_col.set_color_name()`, run all the codes again and observe the missing part in the printed figure, which corresponds to the electrode you comment out. The second method also serves as a double check. Besides, parameter in `stl.stl_to_mesh()` can be set as `quiet = False` to check whether the program reads planes correctly."
   ]
  },
  {
   "cell_type": "code",
   "execution_count": 6,
   "id": "6d9f67f6-8743-4b01-b2f9-3ab39a88decf",
   "metadata": {},
   "outputs": [
    {
     "name": "stdout",
     "output_type": "stream",
     "text": [
      "dropping color ['bem6']\n",
      "dropping color ['bem13']\n",
      "dropping color ['bem19']\n",
      "dropping color ['bem11']\n",
      "dropping color ['bem17']\n",
      "dropping color ['bem15']\n",
      "dropping color ['bem1']\n",
      "dropping color ['bem12']\n",
      "dropping color ['bem5']\n",
      "dropping color ['bem18']\n",
      "dropping color ['bem3']\n",
      "dropping color ['bem16']\n",
      "dropping color ['bem7']\n",
      "dropping color ['bem9']\n",
      "dropping color ['bem2']\n",
      "dropping color ['bem4']\n",
      "dropping color ['bem20']\n",
      "dropping color ['bem10']\n",
      "dropping color ['_unkColor0']\n",
      "dropping color ['bem14']\n",
      "dropping color ['bem8']\n",
      "TOTAL COLORS DROPPED:  21\n",
      "dropping 20083\n",
      "dropping 5345\n",
      "dropping 13683\n",
      "dropping 27949\n",
      "dropping 13363\n",
      "dropping 15669\n",
      "dropping 28135\n",
      "dropping 5997\n",
      "dropping 5493\n",
      "dropping 25969\n",
      "dropping 1647\n",
      "dropping 7275\n",
      "dropping 19501\n",
      "dropping 28463\n",
      "dropping 10151\n",
      "dropping 1399\n",
      "dropping 15905\n",
      "dropping 5941\n",
      "dropping 10095\n",
      "dropping 19943\n",
      "dropping 9893\n"
     ]
    }
   ],
   "source": [
    "# # # assign a name for each color\n",
    "# ele_col.color_electrode(color = 'bem1',name = 'DC1')\n",
    "# ele_col.color_electrode(color = 'bem2',name = 'DC2')\n",
    "# ele_col.color_electrode(color = 'bem3',name = 'DC3')\n",
    "# ele_col.color_electrode(color = 'bem4',name = 'DC4')\n",
    "# ele_col.color_electrode(color = 'bem5',name = 'DC5')\n",
    "# ele_col.color_electrode(color = 'bem6',name = 'DC6')\n",
    "# ele_col.color_electrode(color = 'bem7',name = 'DC7')\n",
    "# ele_col.color_electrode(color = 'bem8',name = 'DC8')\n",
    "# ele_col.color_electrode(color = 'bem9',name = 'DC9')\n",
    "# ele_col.color_electrode(color = 'bem10',name = 'DC10')\n",
    "# ele_col.color_electrode(color = 'bem11',name = 'DC11')\n",
    "# ele_col.color_electrode(color = 'bem12',name = 'DC12')\n",
    "# ele_col.color_electrode(color = 'bem13',name = 'DC13')\n",
    "# ele_col.color_electrode(color = 'bem14',name = 'DC14')\n",
    "# ele_col.color_electrode(color = 'bem15',name = 'DC15')\n",
    "# ele_col.color_electrode(color = 'bem16',name = 'DC16')\n",
    "# ele_col.color_electrode(color = 'bem17',name = 'DC17')\n",
    "# ele_col.color_electrode(color = 'bem18',name = 'DC18')\n",
    "# ele_col.color_electrode(color = 'bem19',name = 'DC19')\n",
    "# ele_col.color_electrode(color = 'bem20',name = 'DC20')\n",
    "ele_col.color_electrode(color = 'bem21',name = 'DC21')\n",
    "ele_col.color_electrode(color = 'bem30',name = 'DC0')\n",
    "ele_col.color_electrode(color = 'bem25',name = 'RF')\n",
    "\n",
    "# print colors still with no name. These meshes will be neglected in the following codes\n",
    "ele_col.drop_colors()\n",
    "\n",
    "# read stl into mesh with electrode names\n",
    "# unnamed meshes will not be imported at all\n",
    "mesh = Mesh.from_mesh(stl.stl_to_mesh(*s_nta, scale=a0/unit,\n",
    "    rename=ele_col.electrode_colors, quiet=True))"
   ]
  },
  {
   "cell_type": "markdown",
   "id": "ab1b7163-5174-4deb-9a82-892cad05efb6",
   "metadata": {
    "tags": []
   },
   "source": [
    "# `II. Remesh with constraint` \n",
    "\n",
    "In this step, we generate triangle mesh with constraints. The meshes are 2-dimensional triangles on the surface of electrodes. The region enclosed by constraint shape can have finer mesh. Triangulation is done by `triangle` C library. Folowing variables are all in unit `mesh_unit` now.\n",
    "\n",
    "Our remesh strategy consists of two steps of triangulation: \n",
    "1. global triangulation without constraint. This step eliminate some long and sharp triangles by combining and dividing, and obtains a coarse grain triangulated model.\n",
    "2. local triangulation with constraint. This step refines each triangles in step 1, the triangle density is defined by `mesh.areas_from_constraints`\n",
    "\n",
    "It is better to update triangle density gradually to accurately position the constraint boundary. Parameters in the below code block should be tuned specificly for different trap geometries.\n",
    "\n",
    "Notes:\n",
    "- mesh.triangulate function takes in a parameter opts, after some processing of the wrap function, opts changes a little and prints as final opts. These final opts finally passes into Fastlap triangulate package, of which parameters and usage can be found in this link (http://www.cs.cmu.edu/~quake/triangle.research.html)."
   ]
  },
  {
   "cell_type": "code",
   "execution_count": 7,
   "id": "bf879f76-3417-4b4b-af3e-c1ef2ec8791f",
   "metadata": {},
   "outputs": [
    {
     "name": "stdout",
     "output_type": "stream",
     "text": [
      "start triangulate DC0\n",
      "('final opts', 'q20Qzr')\n",
      "('final opts', 'q20Qzr')\n",
      "('final opts', 'q20Qzr')\n",
      "('final opts', 'q20Qzr')\n",
      "('final opts', 'q20Qzr')\n",
      "('final opts', 'q20Qzr')\n",
      "('final opts', 'q20Qzr')\n",
      "finish triangulate DC0\n",
      "start triangulate DC21\n",
      "('final opts', 'q20Qzr')\n",
      "('final opts', 'q20Qzr')\n",
      "('final opts', 'q20Qzr')\n",
      "('final opts', 'q20Qzr')\n",
      "('final opts', 'q20Qzr')\n",
      "('final opts', 'q20Qzr')\n",
      "('final opts', 'q20Qzr')\n",
      "('final opts', 'q20Qzr')\n",
      "('final opts', 'q20Qzr')\n",
      "('final opts', 'q20Qzr')\n",
      "finish triangulate DC21\n",
      "start triangulate RF\n",
      "('final opts', 'q20Qzr')\n",
      "('final opts', 'q20Qzr')\n",
      "('final opts', 'q20Qzr')\n",
      "finish triangulate RF\n",
      "start triangulate DC0\n",
      "('final opts', 'q20Qzra')\n",
      "('final opts', 'q20Qzra')\n",
      "('final opts', 'q20Qzra')\n",
      "('final opts', 'q20Qzra')\n",
      "('final opts', 'q20Qzra')\n",
      "('final opts', 'q20Qzra')\n",
      "('final opts', 'q20Qzra')\n",
      "finish triangulate DC0\n",
      "start triangulate DC21\n",
      "('final opts', 'q20Qzra')\n",
      "('final opts', 'q20Qzra')\n",
      "('final opts', 'q20Qzra')\n",
      "('final opts', 'q20Qzra')\n",
      "('final opts', 'q20Qzra')\n",
      "('final opts', 'q20Qzra')\n",
      "('final opts', 'q20Qzra')\n",
      "('final opts', 'q20Qzra')\n",
      "('final opts', 'q20Qzra')\n",
      "('final opts', 'q20Qzra')\n",
      "finish triangulate DC21\n",
      "start triangulate RF\n",
      "('final opts', 'q20Qzra')\n",
      "('final opts', 'q20Qzra')\n",
      "('final opts', 'q20Qzra')\n",
      "finish triangulate RF\n",
      "start triangulate DC0\n",
      "('final opts', 'q20Qzra')\n",
      "('final opts', 'q20Qzra')\n",
      "('final opts', 'q20Qzra')\n",
      "('final opts', 'q20Qzra')\n",
      "('final opts', 'q20Qzra')\n",
      "('final opts', 'q20Qzra')\n",
      "('final opts', 'q20Qzra')\n",
      "finish triangulate DC0\n",
      "start triangulate DC21\n",
      "('final opts', 'q20Qzra')\n",
      "('final opts', 'q20Qzra')\n",
      "('final opts', 'q20Qzra')\n",
      "('final opts', 'q20Qzra')\n",
      "('final opts', 'q20Qzra')\n",
      "('final opts', 'q20Qzra')\n",
      "('final opts', 'q20Qzra')\n",
      "('final opts', 'q20Qzra')\n",
      "('final opts', 'q20Qzra')\n",
      "('final opts', 'q20Qzra')\n",
      "finish triangulate DC21\n",
      "start triangulate RF\n",
      "('final opts', 'q20Qzra')\n",
      "('final opts', 'q20Qzra')\n",
      "('final opts', 'q20Qzra')\n",
      "finish triangulate RF\n",
      "Output vtk: /home/sqip/Documents/github/bem/examples/SimpleTrap/htrap_overhang_v2.vtk\n"
     ]
    }
   ],
   "source": [
    "# 1. Global triangulation\n",
    "mesh.triangulate(opts=\"q20Q\",new = False)\n",
    "\n",
    "# 2. Local triangulation\n",
    "# areas_from_constraints specifies sphere/cylinder with finer mesh inside it.\n",
    "# \"inside\", \"outside\" set different mesh densities.\n",
    "\n",
    "# first refine\n",
    "mesh.areas_from_constraints(Sphere(center=np.array([0, 0, 1.]), radius=2, inside=2., outside=10))    # Sphere constraint\n",
    "# mesh.areas_from_constraints(Cylinder(start = np.array([-1, 0, 0]), end = np.array([1, 0, 0]), radius = 2, inside=2, outside=10)) # Cyliner constraint\n",
    "mesh.triangulate(opts=\"q20Q\", new=False) # retriangulate quality and quiet with areas\n",
    "\n",
    "# second refine\n",
    "mesh.areas_from_constraints(Sphere(center=np.array([0, 0, 1.]), radius=2, inside=0.2, outside=10))    # Sphere constraint\n",
    "# mesh.areas_from_constraints(Cylinder(start = np.array([-1, 0, 0]), end = np.array([1, 0, 0]), radius = 2, inside=0.2, outside=10)) # Cyliner constraint\n",
    "mesh.triangulate(opts=\"q20Q\", new=False) # retriangulate quality and quiet with areas\n",
    "\n",
    "\n",
    "# 3. save base mesh to vtk\n",
    "mesh.to_vtk(prefix)\n",
    "print(\"Output vtk:\",os.path.abspath(\"./\"+prefix+\".vtk\"))    # output path"
   ]
  },
  {
   "cell_type": "markdown",
   "id": "d2c3c568-f382-4373-85b2-c125c77f3497",
   "metadata": {},
   "source": [
    "## Visualize in 3D to check mesh\n",
    "Can be used to check whether electrode faces are colored properly, and whether electrodes are named properly.\n",
    "\n",
    "Plot mesh using pyvista plotter in a separate window.\n",
    "On macOS perhaps Linux as well, the window doesn't close properly after clicking close button, but the code can continue to run."
   ]
  },
  {
   "cell_type": "code",
   "execution_count": 8,
   "id": "a97dd5bb-98de-483a-a9ed-3d8284bf4f36",
   "metadata": {},
   "outputs": [],
   "source": [
    "# Plot triangle meshes.\n",
    "mesh.plot()"
   ]
  },
  {
   "cell_type": "markdown",
   "id": "a48cf7ce-c550-4249-a660-4cdeff01916c",
   "metadata": {},
   "source": [
    "# `III. Main boundary element calculations`\n",
    "## (1) Define job function\n",
    "\n",
    "In `run_job` function, `job` is `Configuration` instance and `grid` is discretirized spatial grid (not the mesh). The general workflow (also the routine of BEM method) are:  \n",
    "1. `solve_singularities()` solves charge distributions by iterative methods to make it consistent with one electrode at 1V and others at 0V (unit potentials). `adapt_mesh()` refines meshes adaptively to achieve certain precision while solving sigulartities.\n",
    "2. Compute potentials on given grid points by `simulate()`, based on the charge distributions gotten previously.\n",
    "3. Potential data of each unit potential are saved seperately to a `Result` instance, and also export to VTK files.\n",
    "4. Return total accumulated charge per electrode in the end.\n",
    "\n",
    "Major calculations calls `fastlap` C library which uses a pre-conditioned, adaptive, multipole-accelerated algorithm for solving Laplace problem. Two parameters control multipole acceleration.\n",
    "+ num_mom, the number of multipole\n",
    "+ num_lev, the number of levels in the hierarchical spatial decomposition.  \n",
    "num_lev=1 means direct computation without multipole acceleration. See fastlap ug.pdf and README.rst."
   ]
  },
  {
   "cell_type": "code",
   "execution_count": 9,
   "id": "8d51a66b-90fd-42ce-8860-380af9584859",
   "metadata": {},
   "outputs": [],
   "source": [
    "# Define calculation function.\n",
    "def run_job(args):\n",
    "    # job is Configuration instance.\n",
    "    job, grid, prefix = args\n",
    "    # # refine twice adaptively with increasing number of triangles, min angle 25 deg.\n",
    "    # job.adapt_mesh(triangles=4e2, opts=\"q25Q\")\n",
    "    # job.adapt_mesh(triangles=1e3, opts=\"q25Q\")\n",
    "    # solve for surface charges\n",
    "    job.solve_singularities(num_mom=4, num_lev=3)\n",
    "    # get potentials and fields\n",
    "    result = job.simulate(grid, field=job.name==\"RF\", num_lev=2)    # For \"RF\", field=True computes the field.\n",
    "    result.to_vtk(prefix)\n",
    "    print(\"finished job %s\" % job.name)\n",
    "    return job.collect_charges()"
   ]
  },
  {
   "cell_type": "markdown",
   "id": "a48439af-df27-4640-b860-f11d959c5f79",
   "metadata": {},
   "source": [
    "## (2) Define grid\n",
    "\n",
    "Create a grid in unit of scaled length `l`. Only choose the interested region (trap center) to save time."
   ]
  },
  {
   "cell_type": "code",
   "execution_count": 19,
   "id": "f5b0a18f-6b09-45d4-a3af-026bf9b3c242",
   "metadata": {},
   "outputs": [
    {
     "name": "stdout",
     "output_type": "stream",
     "text": [
      "Size/l: 0.1 0.1 0.1\n",
      "Step/l: 0.005 0.005 0.005\n",
      "Shape (grid point numbers): 21 21 21\n",
      "Grid origin/l: [-0.05  -0.05   0.025]\n"
     ]
    }
   ],
   "source": [
    "# grid to evalute potential and fields atCreate a grid in unit of scaled length l. Only choose the interested region (trap center) to save time.\n",
    "s = 5e-3\n",
    "Lx, Ly, Lz = 100e-3, 100e-3, 100e-3    # in the unit of scaled length l\n",
    "sx, sy, sz = s, s, s\n",
    "# ni is grid point number, si is step size. Thus to fix size on i direction you need to fix ni*si.\n",
    "nx, ny, nz = [2*np.ceil(L/2.0/ss).astype('int')+1 for ss, L in zip((sx, sy, sz), (Lx, Ly, Lz))]\n",
    "print(\"Size/l:\", Lx, Ly, Lz)\n",
    "print(\"Step/l:\", sx, sy, sz)\n",
    "print(\"Shape (grid point numbers):\", nx, ny, nz)\n",
    "grid = Grid(center=(0, 0, 75e-3), step=(sx, sy, sz), shape=(nx, ny, nz))\n",
    "# Grid center (nx, ny ,nz)/2 is shifted to origin\n",
    "print(\"Grid origin/l:\", grid.get_origin())"
   ]
  },
  {
   "cell_type": "markdown",
   "id": "c922dff7-6961-4d06-ba4c-915b868fe3ee",
   "metadata": {},
   "source": [
    "## (3) Parallel computation using ipyparallel, which is compatible with Savio BRC-HPC"
   ]
  },
  {
   "cell_type": "code",
   "execution_count": 20,
   "id": "6cabdbfb-a5f6-4084-aa41-7b6ed6567e80",
   "metadata": {},
   "outputs": [
    {
     "name": "stdout",
     "output_type": "stream",
     "text": [
      "Starting 8 engines with <class 'ipyparallel.cluster.launcher.LocalEngineSetLauncher'>\n"
     ]
    },
    {
     "name": "stderr",
     "output_type": "stream",
     "text": [
      "INFO:ipyparallel.cluster.cluster.1667607488-3r2x:Starting 8 engines with <class 'ipyparallel.cluster.launcher.LocalEngineSetLauncher'>\n"
     ]
    },
    {
     "data": {
      "application/vnd.jupyter.widget-view+json": {
       "model_id": "d9f7a6145ad543f2bc0638be06173983",
       "version_major": 2,
       "version_minor": 0
      },
      "text/plain": [
       "  0%|          | 0/8 [00:00<?, ?engine/s]"
      ]
     },
     "metadata": {},
     "output_type": "display_data"
    },
    {
     "ename": "KeyboardInterrupt",
     "evalue": "",
     "output_type": "error",
     "traceback": [
      "\u001b[0;31m---------------------------------------------------------------------------\u001b[0m",
      "\u001b[0;31mKeyboardInterrupt\u001b[0m                         Traceback (most recent call last)",
      "Cell \u001b[0;32mIn [20], line 8\u001b[0m\n\u001b[1;32m      6\u001b[0m mycluster\u001b[38;5;241m.\u001b[39mstart_cluster_sync()\n\u001b[1;32m      7\u001b[0m c \u001b[38;5;241m=\u001b[39m mycluster\u001b[38;5;241m.\u001b[39mconnect_client_sync()\n\u001b[0;32m----> 8\u001b[0m \u001b[43mc\u001b[49m\u001b[38;5;241;43m.\u001b[39;49m\u001b[43mwait_for_engines\u001b[49m\u001b[43m(\u001b[49m\u001b[43m)\u001b[49m\n\u001b[1;32m     10\u001b[0m t0 \u001b[38;5;241m=\u001b[39m time()\n\u001b[1;32m     11\u001b[0m \u001b[38;5;28mprint\u001b[39m(jobs)\n",
      "File \u001b[0;32m~/anaconda3/envs/bem39/lib/python3.9/site-packages/ipyparallel/client/client.py:1596\u001b[0m, in \u001b[0;36mClient.wait_for_engines\u001b[0;34m(self, n, timeout, block, interactive, widget)\u001b[0m\n\u001b[1;32m   <a href='file:///~/anaconda3/envs/bem39/lib/python3.9/site-packages/ipyparallel/client/client.py?line=1592'>1593</a>\u001b[0m     \u001b[39mself\u001b[39m\u001b[39m.\u001b[39m_io_loop\u001b[39m.\u001b[39madd_callback(schedule_timeout)\n\u001b[1;32m   <a href='file:///~/anaconda3/envs/bem39/lib/python3.9/site-packages/ipyparallel/client/client.py?line=1594'>1595</a>\u001b[0m \u001b[39mif\u001b[39;00m block:\n\u001b[0;32m-> <a href='file:///~/anaconda3/envs/bem39/lib/python3.9/site-packages/ipyparallel/client/client.py?line=1595'>1596</a>\u001b[0m     \u001b[39mreturn\u001b[39;00m future\u001b[39m.\u001b[39;49mresult()\n\u001b[1;32m   <a href='file:///~/anaconda3/envs/bem39/lib/python3.9/site-packages/ipyparallel/client/client.py?line=1596'>1597</a>\u001b[0m \u001b[39melse\u001b[39;00m:\n\u001b[1;32m   <a href='file:///~/anaconda3/envs/bem39/lib/python3.9/site-packages/ipyparallel/client/client.py?line=1597'>1598</a>\u001b[0m     \u001b[39mreturn\u001b[39;00m future\n",
      "File \u001b[0;32m~/anaconda3/envs/bem39/lib/python3.9/concurrent/futures/_base.py:441\u001b[0m, in \u001b[0;36mFuture.result\u001b[0;34m(self, timeout)\u001b[0m\n\u001b[1;32m    <a href='file:///~/anaconda3/envs/bem39/lib/python3.9/concurrent/futures/_base.py?line=437'>438</a>\u001b[0m \u001b[39melif\u001b[39;00m \u001b[39mself\u001b[39m\u001b[39m.\u001b[39m_state \u001b[39m==\u001b[39m FINISHED:\n\u001b[1;32m    <a href='file:///~/anaconda3/envs/bem39/lib/python3.9/concurrent/futures/_base.py?line=438'>439</a>\u001b[0m     \u001b[39mreturn\u001b[39;00m \u001b[39mself\u001b[39m\u001b[39m.\u001b[39m__get_result()\n\u001b[0;32m--> <a href='file:///~/anaconda3/envs/bem39/lib/python3.9/concurrent/futures/_base.py?line=440'>441</a>\u001b[0m \u001b[39mself\u001b[39;49m\u001b[39m.\u001b[39;49m_condition\u001b[39m.\u001b[39;49mwait(timeout)\n\u001b[1;32m    <a href='file:///~/anaconda3/envs/bem39/lib/python3.9/concurrent/futures/_base.py?line=442'>443</a>\u001b[0m \u001b[39mif\u001b[39;00m \u001b[39mself\u001b[39m\u001b[39m.\u001b[39m_state \u001b[39min\u001b[39;00m [CANCELLED, CANCELLED_AND_NOTIFIED]:\n\u001b[1;32m    <a href='file:///~/anaconda3/envs/bem39/lib/python3.9/concurrent/futures/_base.py?line=443'>444</a>\u001b[0m     \u001b[39mraise\u001b[39;00m CancelledError()\n",
      "File \u001b[0;32m~/anaconda3/envs/bem39/lib/python3.9/threading.py:312\u001b[0m, in \u001b[0;36mCondition.wait\u001b[0;34m(self, timeout)\u001b[0m\n\u001b[1;32m    <a href='file:///~/anaconda3/envs/bem39/lib/python3.9/threading.py?line=309'>310</a>\u001b[0m \u001b[39mtry\u001b[39;00m:    \u001b[39m# restore state no matter what (e.g., KeyboardInterrupt)\u001b[39;00m\n\u001b[1;32m    <a href='file:///~/anaconda3/envs/bem39/lib/python3.9/threading.py?line=310'>311</a>\u001b[0m     \u001b[39mif\u001b[39;00m timeout \u001b[39mis\u001b[39;00m \u001b[39mNone\u001b[39;00m:\n\u001b[0;32m--> <a href='file:///~/anaconda3/envs/bem39/lib/python3.9/threading.py?line=311'>312</a>\u001b[0m         waiter\u001b[39m.\u001b[39;49macquire()\n\u001b[1;32m    <a href='file:///~/anaconda3/envs/bem39/lib/python3.9/threading.py?line=312'>313</a>\u001b[0m         gotit \u001b[39m=\u001b[39m \u001b[39mTrue\u001b[39;00m\n\u001b[1;32m    <a href='file:///~/anaconda3/envs/bem39/lib/python3.9/threading.py?line=313'>314</a>\u001b[0m     \u001b[39melse\u001b[39;00m:\n",
      "\u001b[0;31mKeyboardInterrupt\u001b[0m: "
     ]
    }
   ],
   "source": [
    "# create job list\n",
    "jobs = list(Configuration.select(mesh,\"DC.*\",\"RF\"))\n",
    "# evaluate electric potential for each configurations: one electrode at 1V, the rest 0V.\n",
    "# parallel computation\n",
    "mycluster = ipp.Cluster()\n",
    "mycluster.start_cluster_sync()\n",
    "c = mycluster.connect_client_sync()\n",
    "c.wait_for_engines()\n",
    "\n",
    "t0 = time()\n",
    "print(jobs)\n",
    "# Run a parallel map, executing the wrapper function on indices 0,...,n-1\n",
    "lview = c.load_balanced_view()\n",
    "# Cause execution on main process to wait while tasks sent to workers finish\n",
    "lview.block = True \n",
    "asyncresult = lview.map_async(run_job, ((job, grid, prefix) for job in jobs))   # Run calculation in parallel\n",
    "asyncresult.wait_interactive()\n",
    "print(\"Computing time: %f s\"%(time()-t0))"
   ]
  },
  {
   "cell_type": "markdown",
   "id": "ae146844-83bb-4b22-941f-9417dd671d35",
   "metadata": {},
   "source": [
    "## (4) View result in 3D\n",
    "\n",
    "This part can be done in other files as well. You only need to define prefix and make sure the two result files for each electrode, i.e. ```<prefix>_<electrode_name>.vtk``` and ```<prefix>_<electrode_name>_mesh.vtk```, are in the same directory as the code. Also don't remember to put the base mesh ```<prefix>_mesh.vtk``` in the same folder.\n",
    "\n",
    "Result view inlcudes charge distribution, potential/field_square contours."
   ]
  },
  {
   "cell_type": "code",
   "execution_count": 21,
   "id": "8b0925f3-61b3-42b9-8028-c84abb6cb33d",
   "metadata": {},
   "outputs": [],
   "source": [
    "# base file name for outputs and inputs is the script name\n",
    "prefix = \"htrap_overhang_v2\""
   ]
  },
  {
   "cell_type": "markdown",
   "id": "4f9db084-6af3-47df-bda4-7ec5b0388e78",
   "metadata": {},
   "source": [
    "view exported base mesh vtk file"
   ]
  },
  {
   "cell_type": "code",
   "execution_count": 22,
   "id": "c8e64059-24dc-4a9c-8d50-27b4f388ca88",
   "metadata": {},
   "outputs": [],
   "source": [
    "Result.view(prefix, '') # don't add anything between '' for mesh view"
   ]
  },
  {
   "cell_type": "markdown",
   "id": "dd79eb7a-06e9-4ed3-91cc-02729b19ba38",
   "metadata": {},
   "source": [
    "view simulation result of an electrode"
   ]
  },
  {
   "cell_type": "code",
   "execution_count": 23,
   "id": "9f837b51-4b0f-4ba0-b6e5-9b894c5ccadc",
   "metadata": {},
   "outputs": [
    {
     "ename": "ValueError",
     "evalue": "Empty meshes cannot be plotted. Input mesh has zero points.",
     "output_type": "error",
     "traceback": [
      "\u001b[0;31m---------------------------------------------------------------------------\u001b[0m",
      "\u001b[0;31mValueError\u001b[0m                                Traceback (most recent call last)",
      "Cell \u001b[0;32mIn [23], line 1\u001b[0m\n\u001b[0;32m----> 1\u001b[0m \u001b[43mResult\u001b[49m\u001b[38;5;241;43m.\u001b[39;49m\u001b[43mview\u001b[49m\u001b[43m(\u001b[49m\u001b[43mprefix\u001b[49m\u001b[43m,\u001b[49m\u001b[43m \u001b[49m\u001b[38;5;124;43m'\u001b[39;49m\u001b[38;5;124;43mRF\u001b[39;49m\u001b[38;5;124;43m'\u001b[39;49m\u001b[43m)\u001b[49m \u001b[38;5;66;03m# add electrode name between '' for result view\u001b[39;00m\n",
      "File \u001b[0;32m~/anaconda3/envs/bem39/lib/python3.9/site-packages/bem/electrostatics.py:169\u001b[0m, in \u001b[0;36mResult.view\u001b[0;34m(prefix, name)\u001b[0m\n\u001b[1;32m    <a href='file:///~/anaconda3/envs/bem39/lib/python3.9/site-packages/bem/electrostatics.py?line=166'>167</a>\u001b[0m         scalar_name \u001b[39m=\u001b[39m \u001b[39m'\u001b[39m\u001b[39mpotential\u001b[39m\u001b[39m'\u001b[39m\n\u001b[1;32m    <a href='file:///~/anaconda3/envs/bem39/lib/python3.9/site-packages/bem/electrostatics.py?line=167'>168</a>\u001b[0m     iso_surfaces \u001b[39m=\u001b[39m data\u001b[39m.\u001b[39mcontour(isosurfaces \u001b[39m=\u001b[39m \u001b[39m10\u001b[39m, scalars \u001b[39m=\u001b[39m scalar_name, rng \u001b[39m=\u001b[39m [\u001b[39m0\u001b[39m, \u001b[39m0.015\u001b[39m])\n\u001b[0;32m--> <a href='file:///~/anaconda3/envs/bem39/lib/python3.9/site-packages/bem/electrostatics.py?line=168'>169</a>\u001b[0m     plotter\u001b[39m.\u001b[39;49madd_mesh(iso_surfaces, cmap \u001b[39m=\u001b[39;49m \u001b[39m'\u001b[39;49m\u001b[39mGreys\u001b[39;49m\u001b[39m'\u001b[39;49m, opacity \u001b[39m=\u001b[39;49m \u001b[39m1\u001b[39;49m)\n\u001b[1;32m    <a href='file:///~/anaconda3/envs/bem39/lib/python3.9/site-packages/bem/electrostatics.py?line=169'>170</a>\u001b[0m     plotter\u001b[39m.\u001b[39madd_mesh_isovalue(data, cmap \u001b[39m=\u001b[39m \u001b[39m'\u001b[39m\u001b[39mGreys\u001b[39m\u001b[39m'\u001b[39m, scalars \u001b[39m=\u001b[39m scalar_name,  pointa\u001b[39m=\u001b[39m(\u001b[39m0.4\u001b[39m, \u001b[39m0.9\u001b[39m), pointb\u001b[39m=\u001b[39m(\u001b[39m0.9\u001b[39m, \u001b[39m0.9\u001b[39m))\n\u001b[1;32m    <a href='file:///~/anaconda3/envs/bem39/lib/python3.9/site-packages/bem/electrostatics.py?line=171'>172</a>\u001b[0m plotter\u001b[39m.\u001b[39mshow_bounds()\n",
      "File \u001b[0;32m~/anaconda3/envs/bem39/lib/python3.9/site-packages/pyvista/plotting/plotting.py:3044\u001b[0m, in \u001b[0;36mBasePlotter.add_mesh\u001b[0;34m(self, mesh, color, style, scalars, clim, show_edges, edge_color, point_size, line_width, opacity, flip_scalars, lighting, n_colors, interpolate_before_map, cmap, label, reset_camera, scalar_bar_args, show_scalar_bar, multi_colors, name, texture, render_points_as_spheres, render_lines_as_tubes, smooth_shading, split_sharp_edges, ambient, diffuse, specular, specular_power, nan_color, nan_opacity, culling, rgb, categories, silhouette, use_transparency, below_color, above_color, annotations, pickable, preference, log_scale, pbr, metallic, roughness, render, component, emissive, copy_mesh, backface_params, **kwargs)\u001b[0m\n\u001b[1;32m   <a href='file:///~/anaconda3/envs/bem39/lib/python3.9/site-packages/pyvista/plotting/plotting.py?line=3040'>3041</a>\u001b[0m         \u001b[39mraise\u001b[39;00m \u001b[39mValueError\u001b[39;00m(\u001b[39m'\u001b[39m\u001b[39mRGB array must be n_points/n_cells by 3/4 in shape.\u001b[39m\u001b[39m'\u001b[39m)\n\u001b[1;32m   <a href='file:///~/anaconda3/envs/bem39/lib/python3.9/site-packages/pyvista/plotting/plotting.py?line=3042'>3043</a>\u001b[0m \u001b[39mif\u001b[39;00m mesh\u001b[39m.\u001b[39mn_points \u001b[39m<\u001b[39m \u001b[39m1\u001b[39m:\n\u001b[0;32m-> <a href='file:///~/anaconda3/envs/bem39/lib/python3.9/site-packages/pyvista/plotting/plotting.py?line=3043'>3044</a>\u001b[0m     \u001b[39mraise\u001b[39;00m \u001b[39mValueError\u001b[39;00m(\u001b[39m'\u001b[39m\u001b[39mEmpty meshes cannot be plotted. Input mesh has zero points.\u001b[39m\u001b[39m'\u001b[39m)\n\u001b[1;32m   <a href='file:///~/anaconda3/envs/bem39/lib/python3.9/site-packages/pyvista/plotting/plotting.py?line=3045'>3046</a>\u001b[0m \u001b[39m# set main values\u001b[39;00m\n\u001b[1;32m   <a href='file:///~/anaconda3/envs/bem39/lib/python3.9/site-packages/pyvista/plotting/plotting.py?line=3046'>3047</a>\u001b[0m \u001b[39mself\u001b[39m\u001b[39m.\u001b[39mmesh \u001b[39m=\u001b[39m mesh\n",
      "\u001b[0;31mValueError\u001b[0m: Empty meshes cannot be plotted. Input mesh has zero points."
     ]
    }
   ],
   "source": [
    "Result.view(prefix, 'RF') # add electrode name between '' for result view"
   ]
  },
  {
   "cell_type": "markdown",
   "id": "9275120d-072b-46da-b8c6-76043a1cf716",
   "metadata": {},
   "source": [
    "# `IV. Load result for analysis`\n",
    "\n",
    "All analysis are intended to be done outside of the simulation file. Here shows how to access the simulated data, such as potential (DC and RF), field (RF only), field square (RF only), for each electrode."
   ]
  },
  {
   "cell_type": "code",
   "execution_count": null,
   "id": "4da591e3-db45-4090-98a3-25ce564e2034",
   "metadata": {},
   "outputs": [
    {
     "name": "stdout",
     "output_type": "stream",
     "text": [
      "(21, 21, 21)\n"
     ]
    }
   ],
   "source": [
    "rf_result = Result.from_vtk(prefix, 'RF')\n",
    "rf_result.grid.to_xyz() # access the (x, y, z) coordinates\n",
    "rf_result.potential # access the simulated potential data\n",
    "rf_result.field # access the simulated field data\n",
    "rf_result.field_square # access the simulated field_square data\n",
    "print(np.shape(rf_result.field_square))"
   ]
  },
  {
   "cell_type": "code",
   "execution_count": null,
   "id": "67a3de4c-ef3e-474e-8c1e-d14fa376be4e",
   "metadata": {},
   "outputs": [],
   "source": []
  }
 ],
 "metadata": {
  "kernelspec": {
   "display_name": "Python 3 (ipykernel)",
   "language": "python",
   "name": "python3"
  },
  "language_info": {
   "codemirror_mode": {
    "name": "ipython",
    "version": 3
   },
   "file_extension": ".py",
   "mimetype": "text/x-python",
   "name": "python",
   "nbconvert_exporter": "python",
   "pygments_lexer": "ipython3",
   "version": "3.9.13"
  }
 },
 "nbformat": 4,
 "nbformat_minor": 5
}
